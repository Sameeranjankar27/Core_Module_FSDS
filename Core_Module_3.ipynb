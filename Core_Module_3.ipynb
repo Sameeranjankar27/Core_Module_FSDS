{
  "nbformat": 4,
  "nbformat_minor": 0,
  "metadata": {
    "colab": {
      "provenance": []
    },
    "kernelspec": {
      "name": "python3",
      "display_name": "Python 3"
    },
    "language_info": {
      "name": "python"
    }
  },
  "cells": [
    {
      "cell_type": "markdown",
      "source": [
        "1. Scenario: A company wants to analyze the sales performance of its products in different regions. They have collected the following data:\n",
        "   Region A: [10, 15, 12, 8, 14]\n",
        "   Region B: [18, 20, 16, 22, 25]\n",
        "   Calculate the mean sales for each region.\n"
      ],
      "metadata": {
        "id": "pDa75pbVmt40"
      }
    },
    {
      "cell_type": "code",
      "execution_count": 8,
      "metadata": {
        "colab": {
          "base_uri": "https://localhost:8080/"
        },
        "id": "DlHs18vBl-eZ",
        "outputId": "8711dd44-d330-4cd4-b5b2-6e3248060378"
      },
      "outputs": [
        {
          "output_type": "stream",
          "name": "stdout",
          "text": [
            "mean of A and B is 11.8 and 20.2\n"
          ]
        }
      ],
      "source": [
        "import statistics\n",
        "A=[10,15,12,8,14]\n",
        "B=[18,20,16,22,25]\n",
        "x= statistics.mean(A)\n",
        "y=statistics.mean(B)\n",
        "print(\"mean of A and B is\",x ,\"and\" ,  y)"
      ]
    },
    {
      "cell_type": "markdown",
      "source": [
        "2. Scenario: A survey is conducted to measure customer satisfaction on a scale of 1 to 5. The data collected is as follows:\n",
        "   [4, 5, 2, 3, 5, 4, 3, 2, 4, 5]\n",
        "   Calculate the mode of the survey responses.\n"
      ],
      "metadata": {
        "id": "E2OHVh63nf5y"
      }
    },
    {
      "cell_type": "code",
      "source": [
        "A=[4, 5, 2, 3, 5, 4, 3, 2, 4, 5]\n",
        "x= statistics.mode(A)\n",
        "print(\" mode of A is\", x)"
      ],
      "metadata": {
        "colab": {
          "base_uri": "https://localhost:8080/"
        },
        "id": "JU6If3h4ne56",
        "outputId": "612e39cf-f8b2-4372-8c66-8c2d550732b2"
      },
      "execution_count": 9,
      "outputs": [
        {
          "output_type": "stream",
          "name": "stdout",
          "text": [
            " mode of A is 4\n"
          ]
        }
      ]
    },
    {
      "cell_type": "markdown",
      "source": [
        "3. Scenario: A company wants to compare the salaries of two departments. The salary data for Department A and Department B are as follows:\n",
        "   Department A: [5000, 6000, 5500, 7000]\n",
        "   Department B: [4500, 5500, 5800, 6000, 5200]\n",
        "   Calculate the median salary for each department.\n",
        "\n"
      ],
      "metadata": {
        "id": "Vg90TGE-nk1e"
      }
    },
    {
      "cell_type": "code",
      "source": [
        "A= [5000, 6000, 5500, 7000]\n",
        "B= [4500, 5500, 5800, 6000, 5200]\n",
        "x= statistics.median(A)\n",
        "y=statistics.median(B)\n",
        "print(\"median of A and B is\", x  ,\"and\", y)"
      ],
      "metadata": {
        "colab": {
          "base_uri": "https://localhost:8080/"
        },
        "id": "l6qSa94Ptfmd",
        "outputId": "9bd6204f-b099-4875-924e-b004f48a7007"
      },
      "execution_count": 10,
      "outputs": [
        {
          "output_type": "stream",
          "name": "stdout",
          "text": [
            "median of A and B is 5750.0 and 5500\n"
          ]
        }
      ]
    },
    {
      "cell_type": "markdown",
      "source": [
        "4. Scenario: A data analyst wants to determine the variability in the daily stock prices of a company. The data collected is as follows:\n",
        "   [25.5, 24.8, 26.1, 25.3, 24.9]\n",
        "   Calculate the range of the stock prices.\n"
      ],
      "metadata": {
        "id": "Xebaco-unn8h"
      }
    },
    {
      "cell_type": "code",
      "source": [
        "stock_price = [25.5, 24.8, 26.1, 25.3, 24.9]\n",
        "range = max(stock_price) - min(stock_price)\n",
        "print( \"range is\", range)"
      ],
      "metadata": {
        "colab": {
          "base_uri": "https://localhost:8080/"
        },
        "id": "gxIK4WpmnfGu",
        "outputId": "0f6a4989-a5f4-471a-df58-ea28508e6ea5"
      },
      "execution_count": 11,
      "outputs": [
        {
          "output_type": "stream",
          "name": "stdout",
          "text": [
            "range is 1.3000000000000007\n"
          ]
        }
      ]
    },
    {
      "cell_type": "markdown",
      "source": [
        "5. Scenario: A study is conducted to compare the performance of two different teaching methods. The test scores of the students in each group are as follows:\n",
        "   Group A: [85, 90, 92, 88, 91]\n",
        "   Group B: [82, 88, 90, 86, 87]\n",
        "   Perform a t-test to determine if there is a significant difference in the mean scores between the two groups.\n"
      ],
      "metadata": {
        "id": "05eUhFD7nq-W"
      }
    },
    {
      "cell_type": "code",
      "source": [
        "import scipy.stats as stats\n",
        "from statsmodels.stats.weightstats import ttest_ind\n",
        "Group_A = [85, 90, 92, 88, 91]\n",
        "Group_B = [82, 88, 90, 86, 87]\n",
        "stats.ttest_ind(a=Group_A, b=Group_B, equal_var=True)\n",
        "#print(result)\n",
        "\n"
      ],
      "metadata": {
        "colab": {
          "base_uri": "https://localhost:8080/"
        },
        "id": "yiVfP50NnfJW",
        "outputId": "35d77105-95f0-46ce-bc94-30223b10d860"
      },
      "execution_count": 12,
      "outputs": [
        {
          "output_type": "execute_result",
          "data": {
            "text/plain": [
              "Ttest_indResult(statistic=1.4312528946642733, pvalue=0.19023970239078333)"
            ]
          },
          "metadata": {},
          "execution_count": 12
        }
      ]
    },
    {
      "cell_type": "markdown",
      "source": [
        "6. Scenario: A company wants to analyze the relationship between advertising expenditure and sales. The data collected is as follows:\n",
        "   Advertising Expenditure (in thousands): [10, 15, 12, 8, 14]\n",
        "   Sales (in thousands): [25, 30, 28, 20, 26]\n",
        "   Calculate the correlation coefficient between advertising expenditure and sales.\n",
        "\n"
      ],
      "metadata": {
        "id": "eFezKqh1nuKX"
      }
    },
    {
      "cell_type": "code",
      "source": [
        "import numpy as np\n",
        "expend = [10, 15, 12, 8, 14]\n",
        "sales = [25, 30, 28, 20, 26]\n",
        "result=np.corrcoef(expend , sales)\n",
        "print (\"correlation coefficient between advertising expenditure and sales is =\", result)\n"
      ],
      "metadata": {
        "colab": {
          "base_uri": "https://localhost:8080/"
        },
        "id": "IfMrXqQznfL7",
        "outputId": "6a62dbdc-42dd-4e44-cc7e-3052288e3ede"
      },
      "execution_count": 13,
      "outputs": [
        {
          "output_type": "stream",
          "name": "stdout",
          "text": [
            "correlation coefficient between advertising expenditure and sales is = [[1.         0.87575114]\n",
            " [0.87575114 1.        ]]\n"
          ]
        }
      ]
    },
    {
      "cell_type": "markdown",
      "source": [
        "7. Scenario: A survey is conducted to measure the heights of a group of people. The data collected is as follows:\n",
        "   [160, 170, 165, 155, 175, 180, 170]\n",
        "   Calculate the standard deviation of the heights.\n"
      ],
      "metadata": {
        "id": "SoIiJSEinw9n"
      }
    },
    {
      "cell_type": "code",
      "source": [
        "data=[160, 170, 165, 155, 175, 180, 170]\n",
        "result=statistics.stdev(data)\n",
        "print (\"std deviation of data is\", result)"
      ],
      "metadata": {
        "colab": {
          "base_uri": "https://localhost:8080/"
        },
        "id": "OTB2yGvAnfOS",
        "outputId": "81279fc3-7498-4781-ccff-a5751e55ac7f"
      },
      "execution_count": 14,
      "outputs": [
        {
          "output_type": "stream",
          "name": "stdout",
          "text": [
            "std deviation of data is 8.591246929842246\n"
          ]
        }
      ]
    },
    {
      "cell_type": "markdown",
      "source": [
        "8. Scenario: A company wants to analyze the relationship between employee tenure and job satisfaction. The data collected is as follows:\n",
        "   Employee Tenure (in years): [2, 3, 5, 4, 6, 2, 4]\n",
        "   Job Satisfaction (on a scale of 1 to 10): [7, 8, 6, 9, 5, 7, 6]\n",
        "   Perform a linear regression analysis to predict job satisfaction based on employee tenure.\n"
      ],
      "metadata": {
        "id": "cvyVJceYnzVi"
      }
    },
    {
      "cell_type": "code",
      "source": [
        "import numpy as np\n",
        "from sklearn.linear_model import LinearRegression\n",
        "x=np.array([2, 3, 5, 4, 6, 2, 4]).reshape(-1, 1)\n",
        "y=np.array([7, 8, 6, 9, 5, 7, 6])\n",
        "model = LinearRegression()\n",
        "model.fit(x,y)"
      ],
      "metadata": {
        "colab": {
          "base_uri": "https://localhost:8080/",
          "height": 74
        },
        "id": "YjBP20bknfR6",
        "outputId": "8a819bd3-e921-4e1c-93d2-10a1ad839de5"
      },
      "execution_count": 15,
      "outputs": [
        {
          "output_type": "execute_result",
          "data": {
            "text/plain": [
              "LinearRegression()"
            ],
            "text/html": [
              "<style>#sk-container-id-2 {color: black;background-color: white;}#sk-container-id-2 pre{padding: 0;}#sk-container-id-2 div.sk-toggleable {background-color: white;}#sk-container-id-2 label.sk-toggleable__label {cursor: pointer;display: block;width: 100%;margin-bottom: 0;padding: 0.3em;box-sizing: border-box;text-align: center;}#sk-container-id-2 label.sk-toggleable__label-arrow:before {content: \"▸\";float: left;margin-right: 0.25em;color: #696969;}#sk-container-id-2 label.sk-toggleable__label-arrow:hover:before {color: black;}#sk-container-id-2 div.sk-estimator:hover label.sk-toggleable__label-arrow:before {color: black;}#sk-container-id-2 div.sk-toggleable__content {max-height: 0;max-width: 0;overflow: hidden;text-align: left;background-color: #f0f8ff;}#sk-container-id-2 div.sk-toggleable__content pre {margin: 0.2em;color: black;border-radius: 0.25em;background-color: #f0f8ff;}#sk-container-id-2 input.sk-toggleable__control:checked~div.sk-toggleable__content {max-height: 200px;max-width: 100%;overflow: auto;}#sk-container-id-2 input.sk-toggleable__control:checked~label.sk-toggleable__label-arrow:before {content: \"▾\";}#sk-container-id-2 div.sk-estimator input.sk-toggleable__control:checked~label.sk-toggleable__label {background-color: #d4ebff;}#sk-container-id-2 div.sk-label input.sk-toggleable__control:checked~label.sk-toggleable__label {background-color: #d4ebff;}#sk-container-id-2 input.sk-hidden--visually {border: 0;clip: rect(1px 1px 1px 1px);clip: rect(1px, 1px, 1px, 1px);height: 1px;margin: -1px;overflow: hidden;padding: 0;position: absolute;width: 1px;}#sk-container-id-2 div.sk-estimator {font-family: monospace;background-color: #f0f8ff;border: 1px dotted black;border-radius: 0.25em;box-sizing: border-box;margin-bottom: 0.5em;}#sk-container-id-2 div.sk-estimator:hover {background-color: #d4ebff;}#sk-container-id-2 div.sk-parallel-item::after {content: \"\";width: 100%;border-bottom: 1px solid gray;flex-grow: 1;}#sk-container-id-2 div.sk-label:hover label.sk-toggleable__label {background-color: #d4ebff;}#sk-container-id-2 div.sk-serial::before {content: \"\";position: absolute;border-left: 1px solid gray;box-sizing: border-box;top: 0;bottom: 0;left: 50%;z-index: 0;}#sk-container-id-2 div.sk-serial {display: flex;flex-direction: column;align-items: center;background-color: white;padding-right: 0.2em;padding-left: 0.2em;position: relative;}#sk-container-id-2 div.sk-item {position: relative;z-index: 1;}#sk-container-id-2 div.sk-parallel {display: flex;align-items: stretch;justify-content: center;background-color: white;position: relative;}#sk-container-id-2 div.sk-item::before, #sk-container-id-2 div.sk-parallel-item::before {content: \"\";position: absolute;border-left: 1px solid gray;box-sizing: border-box;top: 0;bottom: 0;left: 50%;z-index: -1;}#sk-container-id-2 div.sk-parallel-item {display: flex;flex-direction: column;z-index: 1;position: relative;background-color: white;}#sk-container-id-2 div.sk-parallel-item:first-child::after {align-self: flex-end;width: 50%;}#sk-container-id-2 div.sk-parallel-item:last-child::after {align-self: flex-start;width: 50%;}#sk-container-id-2 div.sk-parallel-item:only-child::after {width: 0;}#sk-container-id-2 div.sk-dashed-wrapped {border: 1px dashed gray;margin: 0 0.4em 0.5em 0.4em;box-sizing: border-box;padding-bottom: 0.4em;background-color: white;}#sk-container-id-2 div.sk-label label {font-family: monospace;font-weight: bold;display: inline-block;line-height: 1.2em;}#sk-container-id-2 div.sk-label-container {text-align: center;}#sk-container-id-2 div.sk-container {/* jupyter's `normalize.less` sets `[hidden] { display: none; }` but bootstrap.min.css set `[hidden] { display: none !important; }` so we also need the `!important` here to be able to override the default hidden behavior on the sphinx rendered scikit-learn.org. See: https://github.com/scikit-learn/scikit-learn/issues/21755 */display: inline-block !important;position: relative;}#sk-container-id-2 div.sk-text-repr-fallback {display: none;}</style><div id=\"sk-container-id-2\" class=\"sk-top-container\"><div class=\"sk-text-repr-fallback\"><pre>LinearRegression()</pre><b>In a Jupyter environment, please rerun this cell to show the HTML representation or trust the notebook. <br />On GitHub, the HTML representation is unable to render, please try loading this page with nbviewer.org.</b></div><div class=\"sk-container\" hidden><div class=\"sk-item\"><div class=\"sk-estimator sk-toggleable\"><input class=\"sk-toggleable__control sk-hidden--visually\" id=\"sk-estimator-id-2\" type=\"checkbox\" checked><label for=\"sk-estimator-id-2\" class=\"sk-toggleable__label sk-toggleable__label-arrow\">LinearRegression</label><div class=\"sk-toggleable__content\"><pre>LinearRegression()</pre></div></div></div></div></div>"
            ]
          },
          "metadata": {},
          "execution_count": 15
        }
      ]
    },
    {
      "cell_type": "code",
      "source": [
        "r_sq = model.score(x, y)\n",
        "print(r_sq)"
      ],
      "metadata": {
        "colab": {
          "base_uri": "https://localhost:8080/"
        },
        "id": "oxq6mFuZ3ogS",
        "outputId": "c870b805-8345-46c1-8020-f325f60cd75b"
      },
      "execution_count": 16,
      "outputs": [
        {
          "output_type": "stream",
          "name": "stdout",
          "text": [
            "0.27099664053751393\n"
          ]
        }
      ]
    },
    {
      "cell_type": "code",
      "source": [
        "intercept= model.intercept_\n",
        "coeffi= model.coef_\n",
        "print(\"intercept is \", intercept , \"and coeffiecent is \", coeffi)"
      ],
      "metadata": {
        "colab": {
          "base_uri": "https://localhost:8080/"
        },
        "id": "REov0K9m4KQi",
        "outputId": "91e31ece-aefe-4808-f283-161447c8409e"
      },
      "execution_count": 17,
      "outputs": [
        {
          "output_type": "stream",
          "name": "stdout",
          "text": [
            "intercept is  8.595744680851062 and coeffiecent is  [-0.46808511]\n"
          ]
        }
      ]
    },
    {
      "cell_type": "code",
      "source": [
        "new_model = LinearRegression().fit(x, y.reshape((-1, 1)))\n",
        "print(f\"intercept: {new_model.intercept_}\")\n",
        "print(f\"slope: {new_model.coef_}\")\n",
        "y_pred = model.predict(x)\n",
        "print(f\"predicted response:\\n{y_pred}\")"
      ],
      "metadata": {
        "colab": {
          "base_uri": "https://localhost:8080/"
        },
        "id": "xetxwjtY4wWp",
        "outputId": "6becb51e-37aa-4259-8d90-efedd72e662c"
      },
      "execution_count": 18,
      "outputs": [
        {
          "output_type": "stream",
          "name": "stdout",
          "text": [
            "intercept: [8.59574468]\n",
            "slope: [[-0.46808511]]\n",
            "predicted response:\n",
            "[7.65957447 7.19148936 6.25531915 6.72340426 5.78723404 7.65957447\n",
            " 6.72340426]\n"
          ]
        }
      ]
    },
    {
      "cell_type": "markdown",
      "source": [
        "10. Scenario: A company wants to analyze customer feedback ratings on a scale of 1 to 10. The data collected is\n",
        "\n",
        " as follows:\n",
        "    [8, 9, 7, 6, 8, 10, 9, 8, 7, 8]\n",
        "    Calculate the 75th percentile of the feedback ratings.\n",
        "\n"
      ],
      "metadata": {
        "id": "bXCiekyun6Xz"
      }
    },
    {
      "cell_type": "code",
      "source": [
        "a=[8, 9, 7, 6, 8, 10, 9, 8, 7, 8]\n",
        "np.percentile(a , 75)"
      ],
      "metadata": {
        "colab": {
          "base_uri": "https://localhost:8080/"
        },
        "id": "P7nShPN1n2id",
        "outputId": "9a715516-7f4c-4a17-c92b-6b6d1e3b8aea"
      },
      "execution_count": 19,
      "outputs": [
        {
          "output_type": "execute_result",
          "data": {
            "text/plain": [
              "8.75"
            ]
          },
          "metadata": {},
          "execution_count": 19
        }
      ]
    },
    {
      "cell_type": "markdown",
      "source": [
        "11. Scenario: A quality control department wants to test the weight consistency of a product. The weights of a sample of products are as follows:\n",
        "    [10.2, 9.8, 10.0, 10.5, 10.3, 10.1]\n",
        "    Perform a hypothesis test to determine if the mean weight differs significantly from 10 grams.\n",
        "\n"
      ],
      "metadata": {
        "id": "f7-rFXOqn9Jf"
      }
    },
    {
      "cell_type": "code",
      "source": [
        "import statistics\n",
        "weight = [10.2, 9.8, 10.0, 10.5, 10.3, 10.1]\n",
        "x=statistics.mean(weight)\n",
        "x\n",
        "stats.ttest_1samp(a=weight, popmean=10)\n",
        "# p value > 0.5 so we fail to reject null hypothesis\n"
      ],
      "metadata": {
        "colab": {
          "base_uri": "https://localhost:8080/"
        },
        "id": "c5yZ4qH5n2k9",
        "outputId": "93570ceb-bdd6-46f6-da0b-e8cdb18f6921"
      },
      "execution_count": 20,
      "outputs": [
        {
          "output_type": "execute_result",
          "data": {
            "text/plain": [
              "TtestResult(statistic=1.5126584522688367, pvalue=0.19077595151110102, df=5)"
            ]
          },
          "metadata": {},
          "execution_count": 20
        }
      ]
    },
    {
      "cell_type": "markdown",
      "source": [
        "13. Scenario: A survey is conducted to measure customer satisfaction with a product on a scale of 1 to 10. The data collected is as follows:\n",
        "    [7, 9, 6, 8, 10, 7, 8, 9, 7, 8]\n",
        "    Calculate the 95% confidence interval for the population mean satisfaction score\n"
      ],
      "metadata": {
        "id": "wyuMXs9zoCgL"
      }
    },
    {
      "cell_type": "code",
      "source": [
        "abc=[7, 9, 6, 8, 10, 7, 8, 9, 7, 8]\n",
        "import scipy.stats as st\n",
        "st.norm.interval(alpha=0.95 , loc=np.mean(abc)-1 , scale=st.sem(abc))"
      ],
      "metadata": {
        "colab": {
          "base_uri": "https://localhost:8080/"
        },
        "id": "aHsbPbyJn2qw",
        "outputId": "a72cc642-da7b-4d0d-9355-ec9b6413918a"
      },
      "execution_count": 21,
      "outputs": [
        {
          "output_type": "stream",
          "name": "stderr",
          "text": [
            "<ipython-input-21-0aa7bd21ca31>:3: DeprecationWarning: Use of keyword argument 'alpha' for method 'interval' is deprecated and wil be removed in SciPy 1.11.0. Use first positional argument or keyword argument 'confidence' instead.\n",
            "  st.norm.interval(alpha=0.95 , loc=np.mean(abc)-1 , scale=st.sem(abc))\n"
          ]
        },
        {
          "output_type": "execute_result",
          "data": {
            "text/plain": [
              "(6.157969611381835, 7.642030388618165)"
            ]
          },
          "metadata": {},
          "execution_count": 21
        }
      ]
    },
    {
      "cell_type": "markdown",
      "source": [
        "14. Scenario: A company wants to analyze the effect of temperature on product performance. The data collected is as follows:\n",
        "    Temperature (in degrees Celsius): [20, 22, 23, 19, 21]\n",
        "    Performance (on a scale of 1 to 10): [8, 7, 9, 6, 8]\n",
        "    Perform a simple linear regression to predict performance based on temperature.\n",
        "\n"
      ],
      "metadata": {
        "id": "RWY2gUYzoF_Z"
      }
    },
    {
      "cell_type": "code",
      "source": [
        "import numpy as np\n",
        "from sklearn.linear_model import LinearRegression\n",
        "temp = np.array([20, 22, 23, 19, 21]).reshape(-1,1)\n",
        "performance =np.array( [8, 7, 9, 6, 8] )\n",
        "model= LinearRegression()\n",
        "model.fit(temp,performance)\n",
        "r_sq= model.score(temp,performance)\n",
        "r_sq\n",
        "a=model.intercept_\n",
        "b=model.coef_\n",
        "print(\"r sqr is\",r_sq,\"model inter and coef is\",a,\"and\",b)"
      ],
      "metadata": {
        "id": "3-Kpj2lpoFCl",
        "colab": {
          "base_uri": "https://localhost:8080/"
        },
        "outputId": "35f9cfa5-b0ec-45e4-ccec-4781e7e953cd"
      },
      "execution_count": 32,
      "outputs": [
        {
          "output_type": "stream",
          "name": "stdout",
          "text": [
            "r sqr is 0.4807692307692307 model inter and coef is -2.8999999999999986 and [0.5]\n"
          ]
        }
      ]
    },
    {
      "cell_type": "code",
      "source": [
        "new_model = LinearRegression().fit(temp , performance.reshape((-1, 1)))\n",
        "inter=new_model.intercept_\n",
        "coef=new_model.coef_\n",
        "y_pred=model.predict(temp)\n",
        "print(\"new model intercept is\",inter,\"new model coeff\", coef ,\"y pred of model is\",y_pred)"
      ],
      "metadata": {
        "id": "9GsuE7xCoFEs",
        "colab": {
          "base_uri": "https://localhost:8080/"
        },
        "outputId": "9083a1a1-e665-4aa5-db29-c657ed0655b0"
      },
      "execution_count": 31,
      "outputs": [
        {
          "output_type": "stream",
          "name": "stdout",
          "text": [
            "new model intercept is [-2.9] new model coeff [[0.5]] y pred of model is [7.1 8.1 8.6 6.6 7.6]\n"
          ]
        }
      ]
    },
    {
      "cell_type": "markdown",
      "source": [
        "16. Scenario: A company wants to analyze the distribution of customer ages. The data collected is as follows:\n",
        "    [25, 30, 35, 40, 45, 50, 55, 60, 65, 70]\n",
        "    Calculate the interquartile range (IQR) of the ages.\n",
        "\n"
      ],
      "metadata": {
        "id": "6HwqdKxQsRZ4"
      }
    },
    {
      "cell_type": "code",
      "source": [
        "data= [25, 30, 35, 40, 45, 50, 55, 60, 65, 70]\n",
        "a=np.percentile(data , 25)\n",
        "b=np.percentile(data , 75)\n",
        "print(\"IQR of data is\", b-a)"
      ],
      "metadata": {
        "colab": {
          "base_uri": "https://localhost:8080/"
        },
        "id": "bi7jN-lxqWiP",
        "outputId": "4934f99b-22ec-4be0-f6ff-d54fc5fabd2c"
      },
      "execution_count": 39,
      "outputs": [
        {
          "output_type": "stream",
          "name": "stdout",
          "text": [
            "IQR of data is 22.5\n"
          ]
        }
      ]
    },
    {
      "cell_type": "markdown",
      "source": [
        "18. Scenario: A company wants to analyze the effect of price on sales. The data collected is as follows:\n",
        "    Price (in dollars): [10, 15, 12, 8, 14]\n",
        "    Sales: [100, 80, 90, 110, 95]\n",
        "    Perform a simple linear regression to predict\n"
      ],
      "metadata": {
        "id": "PsHV2j_rvgY-"
      }
    },
    {
      "cell_type": "code",
      "source": [
        "price=np.array([10,15,12,8,14]).reshape(-1,1)\n",
        "sales=np.array([100,80,90,110,95])\n",
        "model=LinearRegression()\n",
        "model.fit(price,sales)\n",
        "x=model.intercept_\n",
        "y=model.coef_\n",
        "r_sqr=model.score(price,sales)\n",
        "print(\"model intercept and coeff is\",x, \"and\",y,\"r square is\",r_sqr)"
      ],
      "metadata": {
        "colab": {
          "base_uri": "https://localhost:8080/"
        },
        "id": "KuiKRVp6qWen",
        "outputId": "55510fc4-06ec-41ba-d14f-812f9ac252b6"
      },
      "execution_count": 42,
      "outputs": [
        {
          "output_type": "stream",
          "name": "stdout",
          "text": [
            "model intercept and coeff is 136.3719512195122 and [-3.50609756] r square is 0.8064024390243903\n"
          ]
        }
      ]
    },
    {
      "cell_type": "code",
      "source": [
        "new_model=LinearRegression().fit(price , sales.reshape(-1,1))\n",
        "inter=new_model.intercept_\n",
        "coef=new_model.coef_\n",
        "y_pr=model.predict(price)\n",
        "print(\"intercept is\" ,inter,\"coeff is\" , coef ,\"prediction is\", y_pr)"
      ],
      "metadata": {
        "colab": {
          "base_uri": "https://localhost:8080/"
        },
        "id": "hkRPDvg0qWcM",
        "outputId": "28076368-9d04-41c9-8334-5e8cfe600a6a"
      },
      "execution_count": 48,
      "outputs": [
        {
          "output_type": "stream",
          "name": "stdout",
          "text": [
            "intercept is [136.37195122] coeff is [[-3.50609756]] prediction is [101.31097561  83.7804878   94.29878049 108.32317073  87.28658537]\n"
          ]
        }
      ]
    },
    {
      "cell_type": "markdown",
      "source": [
        "19. Scenario: A survey is conducted to measure the satisfaction levels of customers with a new product. The data collected is as follows:\n",
        "    [7, 8, 9, 6, 8, 7, 9, 7, 8, 7]\n",
        "    Calculate the standard error of the mean satisfaction score.\n",
        "\n"
      ],
      "metadata": {
        "id": "fmilMOXmx0NM"
      }
    },
    {
      "cell_type": "code",
      "source": [
        "df=[7,8,9,6,8,7,9,7,8,7]\n",
        "a=np.sqrt(np.size(df))\n",
        "b=np.std(df,ddof=1)\n",
        "b\n",
        "print(\"std error is\",b/a)"
      ],
      "metadata": {
        "colab": {
          "base_uri": "https://localhost:8080/"
        },
        "id": "Q8E7w8VXqWaH",
        "outputId": "cb32df9c-a51a-49fe-b40a-83687471313d"
      },
      "execution_count": 57,
      "outputs": [
        {
          "output_type": "stream",
          "name": "stdout",
          "text": [
            "std error is 0.30550504633038933\n"
          ]
        }
      ]
    },
    {
      "cell_type": "code",
      "source": [],
      "metadata": {
        "id": "pEC1bu43qWXX"
      },
      "execution_count": null,
      "outputs": []
    }
  ]
}